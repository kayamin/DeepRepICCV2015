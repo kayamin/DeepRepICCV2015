{
 "cells": [
  {
   "cell_type": "code",
   "execution_count": 3,
   "metadata": {
    "collapsed": false
   },
   "outputs": [
    {
     "name": "stdout",
     "output_type": "stream",
     "text": [
      "starting ...\n",
      "> <ipython-input-3-9766863dd409>(34)load_rep_dataset()\n",
      "-> mat = matlab.loadmat(filename)\n",
      "(Pdb) l\n",
      " 29  \t#---------------------------------------------------------------------------#\n",
      " 30  \t\n",
      " 31  \tdef load_rep_dataset(filename):\n",
      " 32  \t\n",
      " 33  \t    pdb.set_trace()\n",
      " 34  ->\t    mat = matlab.loadmat(filename)\n",
      " 35  \t    cFrames = mat['all_cFrames']\n",
      " 36  \t    labels = mat['labels']\n",
      " 37  \t    labels = labels\n",
      " 38  \t    n_sets = labels.shape[1]\n",
      " 39  \t    # load input data\n",
      "(Pdb) with h5py.File(filename, 'r') as f:\n",
      "*** SyntaxError: unexpected EOF while parsing\n",
      "(Pdb) q\n"
     ]
    },
    {
     "ename": "BdbQuit",
     "evalue": "",
     "output_type": "error",
     "traceback": [
      "\u001b[0;31m---------------------------------------------------------------------------\u001b[0m",
      "\u001b[0;31mBdbQuit\u001b[0m                                   Traceback (most recent call last)",
      "\u001b[0;32m<ipython-input-3-9766863dd409>\u001b[0m in \u001b[0;36m<module>\u001b[0;34m()\u001b[0m\n\u001b[1;32m     67\u001b[0m     \u001b[0;31m# load mat file\u001b[0m\u001b[0;34m\u001b[0m\u001b[0;34m\u001b[0m\u001b[0m\n\u001b[1;32m     68\u001b[0m     \u001b[0mfilename\u001b[0m \u001b[0;34m=\u001b[0m \u001b[0min_dir\u001b[0m\u001b[0;34m+\u001b[0m\u001b[0;34m'rep_train_data_'\u001b[0m \u001b[0;34m+\u001b[0m \u001b[0mstr\u001b[0m\u001b[0;34m(\u001b[0m\u001b[0mnSet\u001b[0m\u001b[0;34m)\u001b[0m \u001b[0;34m+\u001b[0m \u001b[0;34m'.mat'\u001b[0m\u001b[0;34m\u001b[0m\u001b[0m\n\u001b[0;32m---> 69\u001b[0;31m     \u001b[0mtrain_set\u001b[0m \u001b[0;34m=\u001b[0m \u001b[0mload_rep_dataset\u001b[0m\u001b[0;34m(\u001b[0m\u001b[0mfilename\u001b[0m\u001b[0;34m)\u001b[0m\u001b[0;34m\u001b[0m\u001b[0m\n\u001b[0m\u001b[1;32m     70\u001b[0m \u001b[0;34m\u001b[0m\u001b[0m\n\u001b[1;32m     71\u001b[0m     \u001b[0;31m# store in h5 file\u001b[0m\u001b[0;34m\u001b[0m\u001b[0;34m\u001b[0m\u001b[0m\n",
      "\u001b[0;32m<ipython-input-3-9766863dd409>\u001b[0m in \u001b[0;36mload_rep_dataset\u001b[0;34m(filename)\u001b[0m\n\u001b[1;32m     32\u001b[0m \u001b[0;34m\u001b[0m\u001b[0m\n\u001b[1;32m     33\u001b[0m     \u001b[0mpdb\u001b[0m\u001b[0;34m.\u001b[0m\u001b[0mset_trace\u001b[0m\u001b[0;34m(\u001b[0m\u001b[0;34m)\u001b[0m\u001b[0;34m\u001b[0m\u001b[0m\n\u001b[0;32m---> 34\u001b[0;31m     \u001b[0mmat\u001b[0m \u001b[0;34m=\u001b[0m \u001b[0mmatlab\u001b[0m\u001b[0;34m.\u001b[0m\u001b[0mloadmat\u001b[0m\u001b[0;34m(\u001b[0m\u001b[0mfilename\u001b[0m\u001b[0;34m)\u001b[0m\u001b[0;34m\u001b[0m\u001b[0m\n\u001b[0m\u001b[1;32m     35\u001b[0m     \u001b[0mcFrames\u001b[0m \u001b[0;34m=\u001b[0m \u001b[0mmat\u001b[0m\u001b[0;34m[\u001b[0m\u001b[0;34m'all_cFrames'\u001b[0m\u001b[0;34m]\u001b[0m\u001b[0;34m\u001b[0m\u001b[0m\n\u001b[1;32m     36\u001b[0m     \u001b[0mlabels\u001b[0m \u001b[0;34m=\u001b[0m \u001b[0mmat\u001b[0m\u001b[0;34m[\u001b[0m\u001b[0;34m'labels'\u001b[0m\u001b[0;34m]\u001b[0m\u001b[0;34m\u001b[0m\u001b[0m\n",
      "\u001b[0;32m<ipython-input-3-9766863dd409>\u001b[0m in \u001b[0;36mload_rep_dataset\u001b[0;34m(filename)\u001b[0m\n\u001b[1;32m     32\u001b[0m \u001b[0;34m\u001b[0m\u001b[0m\n\u001b[1;32m     33\u001b[0m     \u001b[0mpdb\u001b[0m\u001b[0;34m.\u001b[0m\u001b[0mset_trace\u001b[0m\u001b[0;34m(\u001b[0m\u001b[0;34m)\u001b[0m\u001b[0;34m\u001b[0m\u001b[0m\n\u001b[0;32m---> 34\u001b[0;31m     \u001b[0mmat\u001b[0m \u001b[0;34m=\u001b[0m \u001b[0mmatlab\u001b[0m\u001b[0;34m.\u001b[0m\u001b[0mloadmat\u001b[0m\u001b[0;34m(\u001b[0m\u001b[0mfilename\u001b[0m\u001b[0;34m)\u001b[0m\u001b[0;34m\u001b[0m\u001b[0m\n\u001b[0m\u001b[1;32m     35\u001b[0m     \u001b[0mcFrames\u001b[0m \u001b[0;34m=\u001b[0m \u001b[0mmat\u001b[0m\u001b[0;34m[\u001b[0m\u001b[0;34m'all_cFrames'\u001b[0m\u001b[0;34m]\u001b[0m\u001b[0;34m\u001b[0m\u001b[0m\n\u001b[1;32m     36\u001b[0m     \u001b[0mlabels\u001b[0m \u001b[0;34m=\u001b[0m \u001b[0mmat\u001b[0m\u001b[0;34m[\u001b[0m\u001b[0;34m'labels'\u001b[0m\u001b[0;34m]\u001b[0m\u001b[0;34m\u001b[0m\u001b[0m\n",
      "\u001b[0;32m~/.pyenv/versions/3.6.1/lib/python3.6/bdb.py\u001b[0m in \u001b[0;36mtrace_dispatch\u001b[0;34m(self, frame, event, arg)\u001b[0m\n\u001b[1;32m     46\u001b[0m             \u001b[0;32mreturn\u001b[0m \u001b[0;31m# None\u001b[0m\u001b[0;34m\u001b[0m\u001b[0m\n\u001b[1;32m     47\u001b[0m         \u001b[0;32mif\u001b[0m \u001b[0mevent\u001b[0m \u001b[0;34m==\u001b[0m \u001b[0;34m'line'\u001b[0m\u001b[0;34m:\u001b[0m\u001b[0;34m\u001b[0m\u001b[0m\n\u001b[0;32m---> 48\u001b[0;31m             \u001b[0;32mreturn\u001b[0m \u001b[0mself\u001b[0m\u001b[0;34m.\u001b[0m\u001b[0mdispatch_line\u001b[0m\u001b[0;34m(\u001b[0m\u001b[0mframe\u001b[0m\u001b[0;34m)\u001b[0m\u001b[0;34m\u001b[0m\u001b[0m\n\u001b[0m\u001b[1;32m     49\u001b[0m         \u001b[0;32mif\u001b[0m \u001b[0mevent\u001b[0m \u001b[0;34m==\u001b[0m \u001b[0;34m'call'\u001b[0m\u001b[0;34m:\u001b[0m\u001b[0;34m\u001b[0m\u001b[0m\n\u001b[1;32m     50\u001b[0m             \u001b[0;32mreturn\u001b[0m \u001b[0mself\u001b[0m\u001b[0;34m.\u001b[0m\u001b[0mdispatch_call\u001b[0m\u001b[0;34m(\u001b[0m\u001b[0mframe\u001b[0m\u001b[0;34m,\u001b[0m \u001b[0marg\u001b[0m\u001b[0;34m)\u001b[0m\u001b[0;34m\u001b[0m\u001b[0m\n",
      "\u001b[0;32m~/.pyenv/versions/3.6.1/lib/python3.6/bdb.py\u001b[0m in \u001b[0;36mdispatch_line\u001b[0;34m(self, frame)\u001b[0m\n\u001b[1;32m     65\u001b[0m         \u001b[0;32mif\u001b[0m \u001b[0mself\u001b[0m\u001b[0;34m.\u001b[0m\u001b[0mstop_here\u001b[0m\u001b[0;34m(\u001b[0m\u001b[0mframe\u001b[0m\u001b[0;34m)\u001b[0m \u001b[0;32mor\u001b[0m \u001b[0mself\u001b[0m\u001b[0;34m.\u001b[0m\u001b[0mbreak_here\u001b[0m\u001b[0;34m(\u001b[0m\u001b[0mframe\u001b[0m\u001b[0;34m)\u001b[0m\u001b[0;34m:\u001b[0m\u001b[0;34m\u001b[0m\u001b[0m\n\u001b[1;32m     66\u001b[0m             \u001b[0mself\u001b[0m\u001b[0;34m.\u001b[0m\u001b[0muser_line\u001b[0m\u001b[0;34m(\u001b[0m\u001b[0mframe\u001b[0m\u001b[0;34m)\u001b[0m\u001b[0;34m\u001b[0m\u001b[0m\n\u001b[0;32m---> 67\u001b[0;31m             \u001b[0;32mif\u001b[0m \u001b[0mself\u001b[0m\u001b[0;34m.\u001b[0m\u001b[0mquitting\u001b[0m\u001b[0;34m:\u001b[0m \u001b[0;32mraise\u001b[0m \u001b[0mBdbQuit\u001b[0m\u001b[0;34m\u001b[0m\u001b[0m\n\u001b[0m\u001b[1;32m     68\u001b[0m         \u001b[0;32mreturn\u001b[0m \u001b[0mself\u001b[0m\u001b[0;34m.\u001b[0m\u001b[0mtrace_dispatch\u001b[0m\u001b[0;34m\u001b[0m\u001b[0m\n\u001b[1;32m     69\u001b[0m \u001b[0;34m\u001b[0m\u001b[0m\n",
      "\u001b[0;31mBdbQuit\u001b[0m: "
     ]
    }
   ],
   "source": [
    "'''\n",
    "live repetition counting system\n",
    "Ofir Levy, Lior Wolf\n",
    "Tel Aviv University\n",
    "'''\n",
    "import gzip\n",
    "import os\n",
    "import sys\n",
    "import time\n",
    "import numpy\n",
    "import scipy\n",
    "from scipy.io import matlab\n",
    "import theano\n",
    "import theano.tensor as T\n",
    "import h5py\n",
    "import pdb\n",
    "\n",
    "#---------------------------------------------------------------------------#\n",
    "\n",
    "def load_single_set(cFrames, set_num):\n",
    "    \n",
    "    datset = []\n",
    "    for i in range(0,20):\n",
    "        xx = cFrames[0,20*set_num+i]\n",
    "        datset.append(xx)\n",
    "    npdataset = numpy.array(datset, ndmin=4)\n",
    "    return npdataset\n",
    "\n",
    "#---------------------------------------------------------------------------#\n",
    "\n",
    "def load_rep_dataset(filename):\n",
    "    \n",
    "    mat = matlab.loadmat(filename)\n",
    "    cFrames = mat['all_cFrames']\n",
    "    labels = mat['labels']\n",
    "    labels = labels\n",
    "    n_sets = labels.shape[1]\n",
    "    # load input data\n",
    "    data_x = load_single_set(cFrames, 0)\n",
    "    for i in xrange(1,n_sets):\n",
    "        data_x = numpy.append(data_x,load_single_set(cFrames, i),axis=0)    \n",
    "    data_x = data_x.reshape((data_x.shape[0],data_x.shape[1]*data_x.shape[2]*data_x.shape[3]))\n",
    "    data_x = data_x.astype(numpy.float32)\n",
    "    data_y = labels\n",
    "    data_y = data_y.reshape((data_y.shape[1]))\n",
    "    data_y = data_y.astype(theano.config.floatX)\n",
    "    train_set = data_x , data_y\n",
    "    \n",
    "    pdb.set_trace()\n",
    "\n",
    "    return train_set\n",
    "\n",
    "\n",
    "#---------------------------------------------------------------------------#\n",
    "\n",
    "# main:\n",
    "\n",
    "in_dir = '../out/mat/'\n",
    "out_dir = '../out/h5/'\n",
    "\n",
    "print(\"starting ...\")\n",
    "\n",
    "# prepare train set\n",
    "for nSet in range(1,601):\n",
    "        \n",
    "    # load mat file    \n",
    "    filename = in_dir+'rep_train_data_' + str(nSet) + '.mat'\n",
    "    train_set = load_rep_dataset(filename)\n",
    "    \n",
    "    # store in h5 file\n",
    "    filename = out_dir+'rep_train_data_' + str(nSet) + '.gzip.h5'\n",
    "    file = h5py.File(filename)\n",
    "    data_x , data_y = train_set\n",
    "    file.create_dataset('data_x',data=data_x,compression='gzip',compression_opts=9)\n",
    "    file.create_dataset('data_y',data=data_y,compression='gzip',compression_opts=9)  \n",
    "    file.close()\n",
    "    print(\"done preparing train set number {}\".format(nSet))\n",
    "\n",
    "# prepare val set\n",
    "for nSet in range(1,101):\n",
    "        \n",
    "    # load mat file\n",
    "    filename = in_dir+'rep_valid_data_' + str(nSet) + '.mat'    \n",
    "    train_set = load_rep_dataset(filename)\n",
    "    \n",
    "    # store in h5 file\n",
    "    filename = out_dir+'rep_valid_data_' + str(nSet) + '.gzip.h5'\n",
    "    file = h5py.File(filename)\n",
    "    data_x , data_y = train_set\n",
    "    file.create_dataset('data_x',data=data_x,compression='gzip',compression_opts=9)\n",
    "    file.create_dataset('data_y',data=data_y,compression='gzip',compression_opts=9)    \n",
    "    file.close()\n",
    "\n",
    "    print(\"done preparing validation set number {}\".format(nSet))\n",
    "\n",
    "print(\"done all\")\n"
   ]
  },
  {
   "cell_type": "code",
   "execution_count": 1,
   "metadata": {
    "collapsed": false
   },
   "outputs": [],
   "source": [
    "import numpy as np\n",
    "import h5py\n",
    "# matファイルからデータを取得\n",
    "def read_matdata(filename):\n",
    "    with h5py.File(filename, 'r') as f:\n",
    "        all_cFrames = list(f['all_cFrames'])\n",
    "        labels = np.array(list(f['labels']))\n",
    "        motion_types = np.array(list(f['motion_types']))\n",
    "\n",
    "        syn_frames = np.zeros([len(all_cFrames), 50, 50])\n",
    "        for i in range(len(all_cFrames)):\n",
    "            b = all_cFrames[i][0]\n",
    "            syn_frames[i, :, :] = np.array(list(f[b]))\n",
    "    return [syn_frames, labels]"
   ]
  },
  {
   "cell_type": "code",
   "execution_count": 21,
   "metadata": {
    "collapsed": false
   },
   "outputs": [
    {
     "name": "stdout",
     "output_type": "stream",
     "text": [
      "starting ...\n",
      "> <ipython-input-21-65cff05b437e>(35)<module>()\n",
      "-> filename_out = out_dir+'rep_train_data_' + str(nSet) + '.gzip.h5'\n",
      "(Pdb) c\n",
      "done preparing train set number 1\n"
     ]
    },
    {
     "ename": "OSError",
     "evalue": "Unable to open file (Unable to open file: name = '../out/mat/rep_valid_data_1.mat', errno = 2, error message = 'no such file or directory', flags = 0, o_flags = 0)",
     "output_type": "error",
     "traceback": [
      "\u001b[0;31m---------------------------------------------------------------------------\u001b[0m",
      "\u001b[0;31mOSError\u001b[0m                                   Traceback (most recent call last)",
      "\u001b[0;32m<ipython-input-21-65cff05b437e>\u001b[0m in \u001b[0;36m<module>\u001b[0;34m()\u001b[0m\n\u001b[1;32m     51\u001b[0m     \u001b[0;31m# load mat file\u001b[0m\u001b[0;34m\u001b[0m\u001b[0;34m\u001b[0m\u001b[0m\n\u001b[1;32m     52\u001b[0m     \u001b[0mfilename_in\u001b[0m \u001b[0;34m=\u001b[0m \u001b[0min_dir\u001b[0m\u001b[0;34m+\u001b[0m\u001b[0;34m'rep_valid_data_'\u001b[0m \u001b[0;34m+\u001b[0m \u001b[0mstr\u001b[0m\u001b[0;34m(\u001b[0m\u001b[0mnSet\u001b[0m\u001b[0;34m)\u001b[0m \u001b[0;34m+\u001b[0m \u001b[0;34m'.mat'\u001b[0m\u001b[0;34m\u001b[0m\u001b[0m\n\u001b[0;32m---> 53\u001b[0;31m     \u001b[0msyn_frames\u001b[0m\u001b[0;34m,\u001b[0m \u001b[0mlabels\u001b[0m \u001b[0;34m=\u001b[0m \u001b[0mread_matdata\u001b[0m\u001b[0;34m(\u001b[0m\u001b[0mfilename_in\u001b[0m\u001b[0;34m)\u001b[0m\u001b[0;34m\u001b[0m\u001b[0m\n\u001b[0m\u001b[1;32m     54\u001b[0m \u001b[0;34m\u001b[0m\u001b[0m\n\u001b[1;32m     55\u001b[0m     \u001b[0;31m# store in h5 file\u001b[0m\u001b[0;34m\u001b[0m\u001b[0;34m\u001b[0m\u001b[0m\n",
      "\u001b[0;32m<ipython-input-1-11975eaff17a>\u001b[0m in \u001b[0;36mread_matdata\u001b[0;34m(filename)\u001b[0m\n\u001b[1;32m      3\u001b[0m \u001b[0;31m# matファイルからデータを取得\u001b[0m\u001b[0;34m\u001b[0m\u001b[0;34m\u001b[0m\u001b[0m\n\u001b[1;32m      4\u001b[0m \u001b[0;32mdef\u001b[0m \u001b[0mread_matdata\u001b[0m\u001b[0;34m(\u001b[0m\u001b[0mfilename\u001b[0m\u001b[0;34m)\u001b[0m\u001b[0;34m:\u001b[0m\u001b[0;34m\u001b[0m\u001b[0m\n\u001b[0;32m----> 5\u001b[0;31m     \u001b[0;32mwith\u001b[0m \u001b[0mh5py\u001b[0m\u001b[0;34m.\u001b[0m\u001b[0mFile\u001b[0m\u001b[0;34m(\u001b[0m\u001b[0mfilename\u001b[0m\u001b[0;34m,\u001b[0m \u001b[0;34m'r'\u001b[0m\u001b[0;34m)\u001b[0m \u001b[0;32mas\u001b[0m \u001b[0mf\u001b[0m\u001b[0;34m:\u001b[0m\u001b[0;34m\u001b[0m\u001b[0m\n\u001b[0m\u001b[1;32m      6\u001b[0m         \u001b[0mall_cFrames\u001b[0m \u001b[0;34m=\u001b[0m \u001b[0mlist\u001b[0m\u001b[0;34m(\u001b[0m\u001b[0mf\u001b[0m\u001b[0;34m[\u001b[0m\u001b[0;34m'all_cFrames'\u001b[0m\u001b[0;34m]\u001b[0m\u001b[0;34m)\u001b[0m\u001b[0;34m\u001b[0m\u001b[0m\n\u001b[1;32m      7\u001b[0m         \u001b[0mlabels\u001b[0m \u001b[0;34m=\u001b[0m \u001b[0mnp\u001b[0m\u001b[0;34m.\u001b[0m\u001b[0marray\u001b[0m\u001b[0;34m(\u001b[0m\u001b[0mlist\u001b[0m\u001b[0;34m(\u001b[0m\u001b[0mf\u001b[0m\u001b[0;34m[\u001b[0m\u001b[0;34m'labels'\u001b[0m\u001b[0;34m]\u001b[0m\u001b[0;34m)\u001b[0m\u001b[0;34m)\u001b[0m\u001b[0;34m\u001b[0m\u001b[0m\n",
      "\u001b[0;32m~/.pyenv/versions/3.6.1/lib/python3.6/site-packages/h5py/_hl/files.py\u001b[0m in \u001b[0;36m__init__\u001b[0;34m(self, name, mode, driver, libver, userblock_size, swmr, **kwds)\u001b[0m\n\u001b[1;32m    270\u001b[0m \u001b[0;34m\u001b[0m\u001b[0m\n\u001b[1;32m    271\u001b[0m                 \u001b[0mfapl\u001b[0m \u001b[0;34m=\u001b[0m \u001b[0mmake_fapl\u001b[0m\u001b[0;34m(\u001b[0m\u001b[0mdriver\u001b[0m\u001b[0;34m,\u001b[0m \u001b[0mlibver\u001b[0m\u001b[0;34m,\u001b[0m \u001b[0;34m**\u001b[0m\u001b[0mkwds\u001b[0m\u001b[0;34m)\u001b[0m\u001b[0;34m\u001b[0m\u001b[0m\n\u001b[0;32m--> 272\u001b[0;31m                 \u001b[0mfid\u001b[0m \u001b[0;34m=\u001b[0m \u001b[0mmake_fid\u001b[0m\u001b[0;34m(\u001b[0m\u001b[0mname\u001b[0m\u001b[0;34m,\u001b[0m \u001b[0mmode\u001b[0m\u001b[0;34m,\u001b[0m \u001b[0muserblock_size\u001b[0m\u001b[0;34m,\u001b[0m \u001b[0mfapl\u001b[0m\u001b[0;34m,\u001b[0m \u001b[0mswmr\u001b[0m\u001b[0;34m=\u001b[0m\u001b[0mswmr\u001b[0m\u001b[0;34m)\u001b[0m\u001b[0;34m\u001b[0m\u001b[0m\n\u001b[0m\u001b[1;32m    273\u001b[0m \u001b[0;34m\u001b[0m\u001b[0m\n\u001b[1;32m    274\u001b[0m                 \u001b[0;32mif\u001b[0m \u001b[0mswmr_support\u001b[0m\u001b[0;34m:\u001b[0m\u001b[0;34m\u001b[0m\u001b[0m\n",
      "\u001b[0;32m~/.pyenv/versions/3.6.1/lib/python3.6/site-packages/h5py/_hl/files.py\u001b[0m in \u001b[0;36mmake_fid\u001b[0;34m(name, mode, userblock_size, fapl, fcpl, swmr)\u001b[0m\n\u001b[1;32m     90\u001b[0m         \u001b[0;32mif\u001b[0m \u001b[0mswmr\u001b[0m \u001b[0;32mand\u001b[0m \u001b[0mswmr_support\u001b[0m\u001b[0;34m:\u001b[0m\u001b[0;34m\u001b[0m\u001b[0m\n\u001b[1;32m     91\u001b[0m             \u001b[0mflags\u001b[0m \u001b[0;34m|=\u001b[0m \u001b[0mh5f\u001b[0m\u001b[0;34m.\u001b[0m\u001b[0mACC_SWMR_READ\u001b[0m\u001b[0;34m\u001b[0m\u001b[0m\n\u001b[0;32m---> 92\u001b[0;31m         \u001b[0mfid\u001b[0m \u001b[0;34m=\u001b[0m \u001b[0mh5f\u001b[0m\u001b[0;34m.\u001b[0m\u001b[0mopen\u001b[0m\u001b[0;34m(\u001b[0m\u001b[0mname\u001b[0m\u001b[0;34m,\u001b[0m \u001b[0mflags\u001b[0m\u001b[0;34m,\u001b[0m \u001b[0mfapl\u001b[0m\u001b[0;34m=\u001b[0m\u001b[0mfapl\u001b[0m\u001b[0;34m)\u001b[0m\u001b[0;34m\u001b[0m\u001b[0m\n\u001b[0m\u001b[1;32m     93\u001b[0m     \u001b[0;32melif\u001b[0m \u001b[0mmode\u001b[0m \u001b[0;34m==\u001b[0m \u001b[0;34m'r+'\u001b[0m\u001b[0;34m:\u001b[0m\u001b[0;34m\u001b[0m\u001b[0m\n\u001b[1;32m     94\u001b[0m         \u001b[0mfid\u001b[0m \u001b[0;34m=\u001b[0m \u001b[0mh5f\u001b[0m\u001b[0;34m.\u001b[0m\u001b[0mopen\u001b[0m\u001b[0;34m(\u001b[0m\u001b[0mname\u001b[0m\u001b[0;34m,\u001b[0m \u001b[0mh5f\u001b[0m\u001b[0;34m.\u001b[0m\u001b[0mACC_RDWR\u001b[0m\u001b[0;34m,\u001b[0m \u001b[0mfapl\u001b[0m\u001b[0;34m=\u001b[0m\u001b[0mfapl\u001b[0m\u001b[0;34m)\u001b[0m\u001b[0;34m\u001b[0m\u001b[0m\n",
      "\u001b[0;32mh5py/_objects.pyx\u001b[0m in \u001b[0;36mh5py._objects.with_phil.wrapper (/private/var/folders/my/m6ynh3bn6tq06h7xr3js0z7r0000gn/T/pip-z0d9zbgm-build/h5py/_objects.c:2853)\u001b[0;34m()\u001b[0m\n",
      "\u001b[0;32mh5py/_objects.pyx\u001b[0m in \u001b[0;36mh5py._objects.with_phil.wrapper (/private/var/folders/my/m6ynh3bn6tq06h7xr3js0z7r0000gn/T/pip-z0d9zbgm-build/h5py/_objects.c:2811)\u001b[0;34m()\u001b[0m\n",
      "\u001b[0;32mh5py/h5f.pyx\u001b[0m in \u001b[0;36mh5py.h5f.open (/private/var/folders/my/m6ynh3bn6tq06h7xr3js0z7r0000gn/T/pip-z0d9zbgm-build/h5py/h5f.c:2099)\u001b[0;34m()\u001b[0m\n",
      "\u001b[0;31mOSError\u001b[0m: Unable to open file (Unable to open file: name = '../out/mat/rep_valid_data_1.mat', errno = 2, error message = 'no such file or directory', flags = 0, o_flags = 0)"
     ]
    }
   ],
   "source": [
    "'''\n",
    "live repetition counting system\n",
    "Ofir Levy, Lior Wolf\n",
    "Tel Aviv University\n",
    "'''\n",
    "import gzip\n",
    "import os\n",
    "import sys\n",
    "import time\n",
    "import numpy\n",
    "import scipy\n",
    "from scipy.io import matlab\n",
    "import theano\n",
    "import theano.tensor as T\n",
    "import h5py\n",
    "import pdb\n",
    "\n",
    "# main:\n",
    "\n",
    "in_dir = '../out/mat/'\n",
    "out_dir = '../out/h5/'\n",
    "\n",
    "print(\"starting ...\")\n",
    "\n",
    "# prepare train set\n",
    "trainset_list = []\n",
    "for nSet in range(1,2):#,601):\n",
    "        \n",
    "    # load mat file    \n",
    "    filename_in = in_dir+'rep_train_data_' + str(nSet) + '.mat'\n",
    "    syn_frames, labels = read_matdata(filename_in)\n",
    "    pdb.set_trace()\n",
    "\n",
    "    # store in h5 file\n",
    "    filename_out = out_dir+'rep_train_data_' + str(nSet) + '.gzip.h5'\n",
    "    trainset_list.append(filename_out)\n",
    "    file = h5py.File(filename_out)\n",
    "    file.create_dataset('data_x',data=syn_frames,compression='gzip',compression_opts=9)\n",
    "    file.create_dataset('data_y',data=labels,compression='gzip',compression_opts=9)  \n",
    "    file.close()\n",
    "    print(\"done preparing train set number {}\".format(nSet))\n",
    " \n",
    "df = pd.DataFrame()\n",
    "df['filename'] = trainset_list\n",
    "df.to_csv('{}trainset_list.csv'.format(out_dir), index=False)\n",
    "\n",
    "# prepare val set\n",
    "validset_list = []\n",
    "for nSet in range(1,2):#,101):\n",
    "        \n",
    "    # load mat file\n",
    "    filename_in = in_dir+'rep_valid_data_' + str(nSet) + '.mat' \n",
    "    syn_frames, labels = read_matdata(filename_in)\n",
    "    \n",
    "    # store in h5 file\n",
    "    filename_out = out_dir+'rep_valid_data_' + str(nSet) + '.gzip.h5'\n",
    "    validset_list.append(filename_out)\n",
    "    file = h5py.File(filename_out)\n",
    "    data_x , data_y = train_set\n",
    "    file.create_dataset('data_x',data=syn_frames,compression='gzip',compression_opts=9)\n",
    "    file.create_dataset('data_y',data=labels,compression='gzip',compression_opts=9)    \n",
    "    file.close()\n",
    "\n",
    "    print(\"done preparing validation set number {}\".format(nSet))\n",
    "    \n",
    "df = pd.DataFrame()\n",
    "df['filename'] = validset_list\n",
    "df.to_csv('{}validset_list.csv'.format(out_dir), index=False)\n",
    "\n",
    "print(\"done all\")\n"
   ]
  },
  {
   "cell_type": "code",
   "execution_count": 2,
   "metadata": {
    "collapsed": false
   },
   "outputs": [
    {
     "name": "stdout",
     "output_type": "stream",
     "text": [
      "['data_x', 'data_y']\n"
     ]
    }
   ],
   "source": [
    "f = h5py.File(\"../out/h5/rep_train_data_1.gzip.h5\", 'r')\n",
    "print(list(f.keys()))\n",
    "data_x = f['data_x'].value\n",
    "data_y = f['data_y'].value\n",
    "f.close()"
   ]
  },
  {
   "cell_type": "code",
   "execution_count": 6,
   "metadata": {
    "collapsed": false,
    "scrolled": true
   },
   "outputs": [
    {
     "data": {
      "text/plain": [
       "array([[[ 0.07967599,  0.14917973,  0.17013045, ...,  0.15163486,\n",
       "          0.1352924 ,  0.15518179],\n",
       "        [ 0.16531811,  0.18573388,  0.15929671, ...,  0.14437824,\n",
       "          0.09151351,  0.10897952],\n",
       "        [ 0.13951308,  0.12801988,  0.17320233, ...,  0.12239017,\n",
       "          0.10533005,  0.05641339],\n",
       "        ..., \n",
       "        [ 0.09997155,  0.20084389,  0.17953051, ...,  0.20461944,\n",
       "          0.14758707,  0.12944817],\n",
       "        [ 0.19894108,  0.25600297,  0.1831032 , ...,  0.11691355,\n",
       "          0.10296791,  0.133157  ],\n",
       "        [ 0.1459953 ,  0.18430339,  0.18691054, ...,  0.16329067,\n",
       "          0.18512791,  0.12338992]],\n",
       "\n",
       "       [[ 0.12705014,  0.16402971,  0.21483361, ...,  0.08588741,\n",
       "          0.11381613,  0.11340918],\n",
       "        [ 0.15715116,  0.12320362,  0.18723818, ...,  0.15829652,\n",
       "          0.1122083 ,  0.13642211],\n",
       "        [ 0.14110054,  0.13273908,  0.15349355, ...,  0.2055646 ,\n",
       "          0.18260544,  0.20475084],\n",
       "        ..., \n",
       "        [ 0.18875295,  0.14909939,  0.19231854, ...,  0.17274681,\n",
       "          0.1844202 ,  0.17529178],\n",
       "        [ 0.15061411,  0.13021786,  0.13769986, ...,  0.20966969,\n",
       "          0.19723976,  0.13441243],\n",
       "        [ 0.1124143 ,  0.11510292,  0.17855313, ...,  0.21849543,\n",
       "          0.14725382,  0.1023005 ]],\n",
       "\n",
       "       [[ 0.08315713,  0.09923458,  0.12019939, ...,  0.13787021,\n",
       "          0.04086802,  0.15918888],\n",
       "        [ 0.07232365,  0.07324633,  0.09113032, ...,  0.14937346,\n",
       "          0.07405514,  0.09803939],\n",
       "        [ 0.19843111,  0.17845207,  0.18863144, ...,  0.15451926,\n",
       "          0.08589038,  0.15084893],\n",
       "        ..., \n",
       "        [ 0.14463692,  0.06227865,  0.1505628 , ...,  0.12186316,\n",
       "          0.14338287,  0.18577942],\n",
       "        [ 0.14772056,  0.05580336,  0.15262287, ...,  0.0685897 ,\n",
       "          0.05392638,  0.05972293],\n",
       "        [ 0.20310121,  0.07093342,  0.20737433, ...,  0.15069452,\n",
       "          0.12605422,  0.04649966]],\n",
       "\n",
       "       ..., \n",
       "       [[ 0.04558615,  0.1217686 ,  0.1026532 , ...,  0.20428538,\n",
       "          0.19327559,  0.13033707],\n",
       "        [ 0.13173704,  0.2278624 ,  0.1340975 , ...,  0.17119182,\n",
       "          0.21100923,  0.12194057],\n",
       "        [ 0.14625264,  0.12144681,  0.15139383, ...,  0.13600166,\n",
       "          0.08224279,  0.05768274],\n",
       "        ..., \n",
       "        [ 0.08357198,  0.12426964,  0.15626691, ...,  0.1253154 ,\n",
       "          0.2537345 ,  0.17839637],\n",
       "        [ 0.10384873,  0.19507887,  0.18542076, ...,  0.08622329,\n",
       "          0.2631249 ,  0.1369014 ],\n",
       "        [ 0.15064976,  0.16621516,  0.08115504, ...,  0.09936939,\n",
       "          0.19815363,  0.08939448]],\n",
       "\n",
       "       [[ 0.1212125 ,  0.20152325,  0.1043213 , ...,  0.16780642,\n",
       "          0.21756826,  0.14432777],\n",
       "        [ 0.14299964,  0.21098123,  0.23178879, ...,  0.15732816,\n",
       "          0.22249805,  0.20665648],\n",
       "        [ 0.17152564,  0.13868507,  0.20428387, ...,  0.11105833,\n",
       "          0.14094188,  0.1666972 ],\n",
       "        ..., \n",
       "        [ 0.14699237,  0.13022436,  0.1729481 , ...,  0.16949209,\n",
       "          0.166627  ,  0.08895898],\n",
       "        [ 0.21009862,  0.1861083 ,  0.18675802, ...,  0.14204708,\n",
       "          0.10490308,  0.15648064],\n",
       "        [ 0.16151192,  0.1380659 ,  0.19569948, ...,  0.10155153,\n",
       "          0.08685502,  0.13833289]],\n",
       "\n",
       "       [[ 0.06754344,  0.19303842,  0.18694485, ...,  0.18017242,\n",
       "          0.19255334,  0.17240581],\n",
       "        [ 0.11844569,  0.00469753,  0.01625477, ...,  0.20166523,\n",
       "          0.00827942,  0.17090715],\n",
       "        [ 0.1349062 ,  0.11610005,  0.12756293, ...,  0.18157111,\n",
       "          0.02225838,  0.07714128],\n",
       "        ..., \n",
       "        [ 0.12474521,  0.02562514,  0.20088352, ...,  0.11826642,\n",
       "          0.14670421,  0.13460563],\n",
       "        [ 0.18579089,  0.00583122,  0.13848491, ...,  0.01429794,\n",
       "          0.00594917,  0.16661022],\n",
       "        [ 0.16749277,  0.08820516,  0.12726855, ...,  0.17152965,\n",
       "          0.09683911,  0.0451792 ]]])"
      ]
     },
     "execution_count": 6,
     "metadata": {},
     "output_type": "execute_result"
    }
   ],
   "source": [
    "data_x"
   ]
  },
  {
   "cell_type": "code",
   "execution_count": 9,
   "metadata": {
    "collapsed": false
   },
   "outputs": [],
   "source": [
    "import pandas as pd"
   ]
  },
  {
   "cell_type": "code",
   "execution_count": 10,
   "metadata": {
    "collapsed": true
   },
   "outputs": [],
   "source": [
    "a = pd.DataFrame()"
   ]
  },
  {
   "cell_type": "code",
   "execution_count": 11,
   "metadata": {
    "collapsed": true
   },
   "outputs": [],
   "source": [
    "b = ['a', 'b', 'c']"
   ]
  },
  {
   "cell_type": "code",
   "execution_count": 12,
   "metadata": {
    "collapsed": true
   },
   "outputs": [],
   "source": [
    "a['name'] = b"
   ]
  },
  {
   "cell_type": "code",
   "execution_count": 13,
   "metadata": {
    "collapsed": false
   },
   "outputs": [
    {
     "data": {
      "text/html": [
       "<div>\n",
       "<table border=\"1\" class=\"dataframe\">\n",
       "  <thead>\n",
       "    <tr style=\"text-align: right;\">\n",
       "      <th></th>\n",
       "      <th>name</th>\n",
       "    </tr>\n",
       "  </thead>\n",
       "  <tbody>\n",
       "    <tr>\n",
       "      <th>0</th>\n",
       "      <td>a</td>\n",
       "    </tr>\n",
       "    <tr>\n",
       "      <th>1</th>\n",
       "      <td>b</td>\n",
       "    </tr>\n",
       "    <tr>\n",
       "      <th>2</th>\n",
       "      <td>c</td>\n",
       "    </tr>\n",
       "  </tbody>\n",
       "</table>\n",
       "</div>"
      ],
      "text/plain": [
       "  name\n",
       "0    a\n",
       "1    b\n",
       "2    c"
      ]
     },
     "execution_count": 13,
     "metadata": {},
     "output_type": "execute_result"
    }
   ],
   "source": [
    "a"
   ]
  },
  {
   "cell_type": "code",
   "execution_count": 17,
   "metadata": {
    "collapsed": false
   },
   "outputs": [],
   "source": [
    "a.to_csv('test.csv', index=False)"
   ]
  },
  {
   "cell_type": "code",
   "execution_count": 22,
   "metadata": {
    "collapsed": false
   },
   "outputs": [
    {
     "data": {
      "text/html": [
       "<div>\n",
       "<table border=\"1\" class=\"dataframe\">\n",
       "  <thead>\n",
       "    <tr style=\"text-align: right;\">\n",
       "      <th></th>\n",
       "      <th>filename</th>\n",
       "    </tr>\n",
       "  </thead>\n",
       "  <tbody>\n",
       "    <tr>\n",
       "      <th>0</th>\n",
       "      <td>../out/h5/rep_train_data_1.gzip.h5</td>\n",
       "    </tr>\n",
       "  </tbody>\n",
       "</table>\n",
       "</div>"
      ],
      "text/plain": [
       "                             filename\n",
       "0  ../out/h5/rep_train_data_1.gzip.h5"
      ]
     },
     "execution_count": 22,
     "metadata": {},
     "output_type": "execute_result"
    }
   ],
   "source": [
    "pd.read_csv('../out/h5/trainset_list.csv')"
   ]
  },
  {
   "cell_type": "code",
   "execution_count": null,
   "metadata": {
    "collapsed": true
   },
   "outputs": [],
   "source": []
  }
 ],
 "metadata": {
  "kernelspec": {
   "display_name": "Python 3",
   "language": "python",
   "name": "python3"
  },
  "language_info": {
   "codemirror_mode": {
    "name": "ipython",
    "version": 3
   },
   "file_extension": ".py",
   "mimetype": "text/x-python",
   "name": "python",
   "nbconvert_exporter": "python",
   "pygments_lexer": "ipython3",
   "version": "3.6.1"
  }
 },
 "nbformat": 4,
 "nbformat_minor": 2
}
